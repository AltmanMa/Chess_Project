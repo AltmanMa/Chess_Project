{
 "cells": [
  {
   "cell_type": "code",
   "execution_count": null,
   "metadata": {},
   "outputs": [],
   "source": [
    "index2move = {}\n",
    "move2index = {}\n",
    "\n",
    "index = 0\n",
    "for sr in range(10):  # 起始行\n",
    "    for sc in range(9):  # 起始列\n",
    "        for er in range(10):  # 目标行\n",
    "            for ec in range(9):  # 目标列\n",
    "                move = f\"{sr}{sc}{er}{ec}\"\n",
    "                index2move[move] = index\n",
    "                move2index[index] = move\n",
    "                index += 1\n"
   ]
  },
  {
   "cell_type": "code",
   "execution_count": null,
   "metadata": {},
   "outputs": [
    {
     "name": "stdout",
     "output_type": "stream",
     "text": [
      "4905\n"
     ]
    }
   ],
   "source": [
    "print(index2move['6050'])"
   ]
  },
  {
   "cell_type": "code",
   "execution_count": 17,
   "metadata": {},
   "outputs": [],
   "source": [
    "def generate_legal_moves():\n",
    "    \"\"\"\n",
    "    Generate all possible legal moves for the chess game, including all legal moves\n",
    "    for all chess pieces and fixed moves for specific pieces like advisors and bishops.\n",
    "    \"\"\"\n",
    "    index2move = {}\n",
    "    move2index = {}\n",
    "\n",
    "    # Define row and column indices\n",
    "    rows = range(10)  # 0 to 9\n",
    "    cols = range(9)   # 0 to 8\n",
    "\n",
    "    # Predefined legal moves for advisors and bishops\n",
    "    advisor_moves = [\n",
    "        (3, 0, 4, 1), (4, 1, 3, 0), (5, 0, 4, 1), (4, 1, 5, 0),\n",
    "        (3, 2, 4, 1), (4, 1, 3, 2), (5, 2, 4, 1), (4, 1, 5, 2),\n",
    "        (9, 3, 8, 4), (8, 4, 9, 3), (9, 5, 8, 4), (8, 4, 9, 5),\n",
    "        (7, 3, 8, 4), (8, 4, 7, 3), (7, 5, 8, 4), (8, 4, 7, 5)\n",
    "    ]\n",
    "    bishop_moves = [\n",
    "        (2, 0, 0, 2), (0, 2, 2, 0), (2, 4, 4, 2), (4, 2, 2, 4),\n",
    "        (0, 2, 2, 4), (2, 4, 0, 2), (4, 2, 6, 0), (6, 0, 4, 2),\n",
    "        (4, 6, 6, 4), (6, 4, 4, 6), (6, 8, 4, 6), (4, 6, 6, 8),\n",
    "        (7, 0, 5, 2), (5, 2, 7, 0), (7, 8, 5, 6), (5, 6, 7, 8)\n",
    "    ]\n",
    "\n",
    "    # Helper function to convert (start_row, start_col, end_row, end_col) to action string\n",
    "    def move_to_action(start, end):\n",
    "        return f\"{start[0]}{start[1]}{end[0]}{end[1]}\"\n",
    "\n",
    "    # Generate legal moves for general pieces\n",
    "    move_idx = 0\n",
    "    for start_row in rows:\n",
    "        for start_col in cols:\n",
    "            # Possible destinations\n",
    "            horizontal_moves = [(start_row, c) for c in cols]  # Same row\n",
    "            vertical_moves = [(r, start_col) for r in rows]    # Same column\n",
    "            knight_moves = [\n",
    "                (start_row + dr, start_col + dc)\n",
    "                for dr, dc in [(-2, -1), (-1, -2), (-2, 1), (1, -2), (2, -1), (-1, 2), (2, 1), (1, 2)]\n",
    "                if 0 <= start_row + dr < 10 and 0 <= start_col + dc < 9\n",
    "            ]\n",
    "\n",
    "            all_moves = set(horizontal_moves + vertical_moves + knight_moves)\n",
    "            for end_pos in all_moves:\n",
    "                if (start_row, start_col) != end_pos:  # Avoid no-op moves\n",
    "                    action = move_to_action((start_row, start_col), end_pos)\n",
    "                    index2move[move_idx] = action\n",
    "                    move2index[action] = move_idx\n",
    "                    move_idx += 1\n",
    "\n",
    "    # Add predefined moves for advisors\n",
    "    for move in advisor_moves:\n",
    "        action = move_to_action((move[0], move[1]), (move[2], move[3]))\n",
    "        index2move[move_idx] = action\n",
    "        move2index[action] = move_idx\n",
    "        move_idx += 1\n",
    "\n",
    "    # Add predefined moves for bishops\n",
    "    for move in bishop_moves:\n",
    "        action = move_to_action((move[0], move[1]), (move[2], move[3]))\n",
    "        index2move[move_idx] = action\n",
    "        move2index[action] = move_idx\n",
    "        move_idx += 1\n",
    "\n",
    "    return index2move, move2index\n",
    "\n",
    "\n",
    "index2move, move2index = generate_legal_moves()\n"
   ]
  },
  {
   "cell_type": "code",
   "execution_count": 22,
   "metadata": {},
   "outputs": [],
   "source": [
    "import numpy as np\n",
    "current_state = np.zeros((10, 9), dtype=int)\n",
    "current_state[0] = [-1, -2, -3, -4, -5, -4, -3, -2, -1]\n",
    "current_state[9] = [1, 2, 3, 4, 5, 4, 3, 2, 1]\n",
    "current_state[2][1] = current_state[2][7] = -6\n",
    "current_state[7][1] = current_state[7][7] = 6\n",
    "current_state[3][0::2] = -7\n",
    "current_state[6][0::2] = 7"
   ]
  },
  {
   "cell_type": "code",
   "execution_count": 23,
   "metadata": {},
   "outputs": [
    {
     "name": "stdout",
     "output_type": "stream",
     "text": [
      "[[-1 -2 -3 -4 -5 -4 -3 -2 -1]\n",
      " [ 0  0  0  0  0  0  0  0  0]\n",
      " [ 0 -6  0  0  0  0  0 -6  0]\n",
      " [-7  0 -7  0 -7  0 -7  0 -7]\n",
      " [ 0  0  0  0  0  0  0  0  0]\n",
      " [ 0  0  0  0  0  0  0  0  0]\n",
      " [ 7  0  7  0  7  0  7  0  7]\n",
      " [ 0  6  0  0  0  0  0  6  0]\n",
      " [ 0  0  0  0  0  0  0  0  0]\n",
      " [ 1  2  3  4  5  4  3  2  1]]\n"
     ]
    }
   ],
   "source": [
    "print(current_state)"
   ]
  },
  {
   "cell_type": "code",
   "execution_count": 27,
   "metadata": {},
   "outputs": [],
   "source": [
    "def is_face_to_face(state):\n",
    "        \"\"\"\n",
    "        Check whether the generals are face to face\n",
    "        \"\"\"\n",
    "        k_x, k_y = None, None\n",
    "        K_x, K_y = None, None\n",
    "\n",
    "        for y in range(10):\n",
    "            for x in range(9):\n",
    "                piece = state[y][x]\n",
    "                if piece == 5:  # \n",
    "                    K_x, K_y = x, y\n",
    "                elif piece == -5:  # \n",
    "                    k_x, k_y = x, y\n",
    "        print(k_x,k_y, K_x, K_y)\n",
    "        if k_x == K_x:  # in the same column\n",
    "            for i in range(min(k_y, K_y) + 1, max(k_y, K_y)):\n",
    "                if state[i][k_x] != 0:\n",
    "                    return False\n",
    "            return True\n",
    "        return False"
   ]
  },
  {
   "cell_type": "code",
   "execution_count": 28,
   "metadata": {},
   "outputs": [
    {
     "name": "stdout",
     "output_type": "stream",
     "text": [
      "4 0 4 9\n"
     ]
    },
    {
     "data": {
      "text/plain": [
       "False"
      ]
     },
     "execution_count": 28,
     "metadata": {},
     "output_type": "execute_result"
    }
   ],
   "source": [
    "is_face_to_face(current_state)"
   ]
  }
 ],
 "metadata": {
  "kernelspec": {
   "display_name": "newev",
   "language": "python",
   "name": "python3"
  },
  "language_info": {
   "codemirror_mode": {
    "name": "ipython",
    "version": 3
   },
   "file_extension": ".py",
   "mimetype": "text/x-python",
   "name": "python",
   "nbconvert_exporter": "python",
   "pygments_lexer": "ipython3",
   "version": "3.12.7"
  }
 },
 "nbformat": 4,
 "nbformat_minor": 2
}
