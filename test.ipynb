{
 "cells": [
  {
   "cell_type": "code",
   "execution_count": null,
   "metadata": {},
   "outputs": [],
   "source": [
    "index2move = {}\n",
    "move2index = {}\n",
    "\n",
    "index = 0\n",
    "for sr in range(10):  # 起始行\n",
    "    for sc in range(9):  # 起始列\n",
    "        for er in range(10):  # 目标行\n",
    "            for ec in range(9):  # 目标列\n",
    "                move = f\"{sr}{sc}{er}{ec}\"\n",
    "                index2move[move] = index\n",
    "                move2index[index] = move\n",
    "                index += 1\n"
   ]
  },
  {
   "cell_type": "code",
   "execution_count": null,
   "metadata": {},
   "outputs": [
    {
     "name": "stdout",
     "output_type": "stream",
     "text": [
      "4905\n"
     ]
    }
   ],
   "source": [
    "print(index2move['6050'])"
   ]
  },
  {
   "cell_type": "code",
   "execution_count": 17,
   "metadata": {},
   "outputs": [],
   "source": [
    "def generate_legal_moves():\n",
    "    \"\"\"\n",
    "    Generate all possible legal moves for the chess game, including all legal moves\n",
    "    for all chess pieces and fixed moves for specific pieces like advisors and bishops.\n",
    "    \"\"\"\n",
    "    index2move = {}\n",
    "    move2index = {}\n",
    "\n",
    "    # Define row and column indices\n",
    "    rows = range(10)  # 0 to 9\n",
    "    cols = range(9)   # 0 to 8\n",
    "\n",
    "    # Predefined legal moves for advisors and bishops\n",
    "    advisor_moves = [\n",
    "        (3, 0, 4, 1), (4, 1, 3, 0), (5, 0, 4, 1), (4, 1, 5, 0),\n",
    "        (3, 2, 4, 1), (4, 1, 3, 2), (5, 2, 4, 1), (4, 1, 5, 2),\n",
    "        (9, 3, 8, 4), (8, 4, 9, 3), (9, 5, 8, 4), (8, 4, 9, 5),\n",
    "        (7, 3, 8, 4), (8, 4, 7, 3), (7, 5, 8, 4), (8, 4, 7, 5)\n",
    "    ]\n",
    "    bishop_moves = [\n",
    "        (2, 0, 0, 2), (0, 2, 2, 0), (2, 4, 4, 2), (4, 2, 2, 4),\n",
    "        (0, 2, 2, 4), (2, 4, 0, 2), (4, 2, 6, 0), (6, 0, 4, 2),\n",
    "        (4, 6, 6, 4), (6, 4, 4, 6), (6, 8, 4, 6), (4, 6, 6, 8),\n",
    "        (7, 0, 5, 2), (5, 2, 7, 0), (7, 8, 5, 6), (5, 6, 7, 8)\n",
    "    ]\n",
    "\n",
    "    # Helper function to convert (start_row, start_col, end_row, end_col) to action string\n",
    "    def move_to_action(start, end):\n",
    "        return f\"{start[0]}{start[1]}{end[0]}{end[1]}\"\n",
    "\n",
    "    # Generate legal moves for general pieces\n",
    "    move_idx = 0\n",
    "    for start_row in rows:\n",
    "        for start_col in cols:\n",
    "            # Possible destinations\n",
    "            horizontal_moves = [(start_row, c) for c in cols]  # Same row\n",
    "            vertical_moves = [(r, start_col) for r in rows]    # Same column\n",
    "            knight_moves = [\n",
    "                (start_row + dr, start_col + dc)\n",
    "                for dr, dc in [(-2, -1), (-1, -2), (-2, 1), (1, -2), (2, -1), (-1, 2), (2, 1), (1, 2)]\n",
    "                if 0 <= start_row + dr < 10 and 0 <= start_col + dc < 9\n",
    "            ]\n",
    "\n",
    "            all_moves = set(horizontal_moves + vertical_moves + knight_moves)\n",
    "            for end_pos in all_moves:\n",
    "                if (start_row, start_col) != end_pos:  # Avoid no-op moves\n",
    "                    action = move_to_action((start_row, start_col), end_pos)\n",
    "                    index2move[move_idx] = action\n",
    "                    move2index[action] = move_idx\n",
    "                    move_idx += 1\n",
    "\n",
    "    # Add predefined moves for advisors\n",
    "    for move in advisor_moves:\n",
    "        action = move_to_action((move[0], move[1]), (move[2], move[3]))\n",
    "        index2move[move_idx] = action\n",
    "        move2index[action] = move_idx\n",
    "        move_idx += 1\n",
    "\n",
    "    # Add predefined moves for bishops\n",
    "    for move in bishop_moves:\n",
    "        action = move_to_action((move[0], move[1]), (move[2], move[3]))\n",
    "        index2move[move_idx] = action\n",
    "        move2index[action] = move_idx\n",
    "        move_idx += 1\n",
    "\n",
    "    return index2move, move2index\n",
    "\n",
    "\n",
    "index2move, move2index = generate_legal_moves()\n"
   ]
  },
  {
   "cell_type": "code",
   "execution_count": 22,
   "metadata": {},
   "outputs": [],
   "source": [
    "import numpy as np\n",
    "current_state = np.zeros((10, 9), dtype=int)\n",
    "current_state[0] = [-1, -2, -3, -4, -5, -4, -3, -2, -1]\n",
    "current_state[9] = [1, 2, 3, 4, 5, 4, 3, 2, 1]\n",
    "current_state[2][1] = current_state[2][7] = -6\n",
    "current_state[7][1] = current_state[7][7] = 6\n",
    "current_state[3][0::2] = -7\n",
    "current_state[6][0::2] = 7"
   ]
  },
  {
   "cell_type": "code",
   "execution_count": 23,
   "metadata": {},
   "outputs": [
    {
     "name": "stdout",
     "output_type": "stream",
     "text": [
      "[[-1 -2 -3 -4 -5 -4 -3 -2 -1]\n",
      " [ 0  0  0  0  0  0  0  0  0]\n",
      " [ 0 -6  0  0  0  0  0 -6  0]\n",
      " [-7  0 -7  0 -7  0 -7  0 -7]\n",
      " [ 0  0  0  0  0  0  0  0  0]\n",
      " [ 0  0  0  0  0  0  0  0  0]\n",
      " [ 7  0  7  0  7  0  7  0  7]\n",
      " [ 0  6  0  0  0  0  0  6  0]\n",
      " [ 0  0  0  0  0  0  0  0  0]\n",
      " [ 1  2  3  4  5  4  3  2  1]]\n"
     ]
    }
   ],
   "source": [
    "print(current_state)"
   ]
  },
  {
   "cell_type": "code",
   "execution_count": 27,
   "metadata": {},
   "outputs": [],
   "source": [
    "def is_face_to_face(state):\n",
    "        \"\"\"\n",
    "        Check whether the generals are face to face\n",
    "        \"\"\"\n",
    "        k_x, k_y = None, None\n",
    "        K_x, K_y = None, None\n",
    "\n",
    "        for y in range(10):\n",
    "            for x in range(9):\n",
    "                piece = state[y][x]\n",
    "                if piece == 5:  # \n",
    "                    K_x, K_y = x, y\n",
    "                elif piece == -5:  # \n",
    "                    k_x, k_y = x, y\n",
    "        print(k_x,k_y, K_x, K_y)\n",
    "        if k_x == K_x:  # in the same column\n",
    "            for i in range(min(k_y, K_y) + 1, max(k_y, K_y)):\n",
    "                if state[i][k_x] != 0:\n",
    "                    return False\n",
    "            return True\n",
    "        return False"
   ]
  },
  {
   "cell_type": "code",
   "execution_count": 28,
   "metadata": {},
   "outputs": [
    {
     "name": "stdout",
     "output_type": "stream",
     "text": [
      "4 0 4 9\n"
     ]
    },
    {
     "data": {
      "text/plain": [
       "False"
      ]
     },
     "execution_count": 28,
     "metadata": {},
     "output_type": "execute_result"
    }
   ],
   "source": [
    "is_face_to_face(current_state)"
   ]
  },
  {
   "cell_type": "code",
   "execution_count": 2,
   "metadata": {},
   "outputs": [
    {
     "name": "stderr",
     "output_type": "stream",
     "text": [
      "<>:4: SyntaxWarning: invalid escape sequence '\\c'\n",
      "<>:4: SyntaxWarning: invalid escape sequence '\\c'\n",
      "C:\\Users\\Altman\\AppData\\Local\\Temp\\ipykernel_172876\\2870666972.py:4: SyntaxWarning: invalid escape sequence '\\c'\n",
      "  model = PolicyValueNet(model_file=\"models\\current_model.pth\")\n"
     ]
    },
    {
     "name": "stdout",
     "output_type": "stream",
     "text": [
      "Model Loaded Successfully: models\\current_model.pth\n",
      "----------------------------------------------------------------\n",
      "        Layer (type)               Output Shape         Param #\n",
      "================================================================\n",
      "            Conv2d-1           [-1, 256, 10, 9]          20,992\n",
      "       BatchNorm2d-2           [-1, 256, 10, 9]             512\n",
      "              ReLU-3           [-1, 256, 10, 9]               0\n",
      "            Conv2d-4           [-1, 256, 10, 9]         590,080\n",
      "       BatchNorm2d-5           [-1, 256, 10, 9]             512\n",
      "              ReLU-6           [-1, 256, 10, 9]               0\n",
      "            Conv2d-7           [-1, 256, 10, 9]         590,080\n",
      "       BatchNorm2d-8           [-1, 256, 10, 9]             512\n",
      "              ReLU-9           [-1, 256, 10, 9]               0\n",
      "         ResBlock-10           [-1, 256, 10, 9]               0\n",
      "           Conv2d-11           [-1, 256, 10, 9]         590,080\n",
      "      BatchNorm2d-12           [-1, 256, 10, 9]             512\n",
      "             ReLU-13           [-1, 256, 10, 9]               0\n",
      "           Conv2d-14           [-1, 256, 10, 9]         590,080\n",
      "      BatchNorm2d-15           [-1, 256, 10, 9]             512\n",
      "             ReLU-16           [-1, 256, 10, 9]               0\n",
      "         ResBlock-17           [-1, 256, 10, 9]               0\n",
      "           Conv2d-18           [-1, 256, 10, 9]         590,080\n",
      "      BatchNorm2d-19           [-1, 256, 10, 9]             512\n",
      "             ReLU-20           [-1, 256, 10, 9]               0\n",
      "           Conv2d-21           [-1, 256, 10, 9]         590,080\n",
      "      BatchNorm2d-22           [-1, 256, 10, 9]             512\n",
      "             ReLU-23           [-1, 256, 10, 9]               0\n",
      "         ResBlock-24           [-1, 256, 10, 9]               0\n",
      "           Conv2d-25           [-1, 256, 10, 9]         590,080\n",
      "      BatchNorm2d-26           [-1, 256, 10, 9]             512\n",
      "             ReLU-27           [-1, 256, 10, 9]               0\n",
      "           Conv2d-28           [-1, 256, 10, 9]         590,080\n",
      "      BatchNorm2d-29           [-1, 256, 10, 9]             512\n",
      "             ReLU-30           [-1, 256, 10, 9]               0\n",
      "         ResBlock-31           [-1, 256, 10, 9]               0\n",
      "           Conv2d-32           [-1, 256, 10, 9]         590,080\n",
      "      BatchNorm2d-33           [-1, 256, 10, 9]             512\n",
      "             ReLU-34           [-1, 256, 10, 9]               0\n",
      "           Conv2d-35           [-1, 256, 10, 9]         590,080\n",
      "      BatchNorm2d-36           [-1, 256, 10, 9]             512\n",
      "             ReLU-37           [-1, 256, 10, 9]               0\n",
      "         ResBlock-38           [-1, 256, 10, 9]               0\n",
      "           Conv2d-39           [-1, 256, 10, 9]         590,080\n",
      "      BatchNorm2d-40           [-1, 256, 10, 9]             512\n",
      "             ReLU-41           [-1, 256, 10, 9]               0\n",
      "           Conv2d-42           [-1, 256, 10, 9]         590,080\n",
      "      BatchNorm2d-43           [-1, 256, 10, 9]             512\n",
      "             ReLU-44           [-1, 256, 10, 9]               0\n",
      "         ResBlock-45           [-1, 256, 10, 9]               0\n",
      "           Conv2d-46           [-1, 256, 10, 9]         590,080\n",
      "      BatchNorm2d-47           [-1, 256, 10, 9]             512\n",
      "             ReLU-48           [-1, 256, 10, 9]               0\n",
      "           Conv2d-49           [-1, 256, 10, 9]         590,080\n",
      "      BatchNorm2d-50           [-1, 256, 10, 9]             512\n",
      "             ReLU-51           [-1, 256, 10, 9]               0\n",
      "         ResBlock-52           [-1, 256, 10, 9]               0\n",
      "           Conv2d-53            [-1, 16, 10, 9]           4,112\n",
      "      BatchNorm2d-54            [-1, 16, 10, 9]              32\n",
      "             ReLU-55            [-1, 16, 10, 9]               0\n",
      "           Linear-56                 [-1, 2086]       3,005,926\n",
      "           Conv2d-57             [-1, 8, 10, 9]           2,056\n",
      "      BatchNorm2d-58             [-1, 8, 10, 9]              16\n",
      "             ReLU-59             [-1, 8, 10, 9]               0\n",
      "           Linear-60                  [-1, 256]         184,576\n",
      "             ReLU-61                  [-1, 256]               0\n",
      "           Linear-62                    [-1, 1]             257\n",
      "================================================================\n",
      "Total params: 11,486,767\n",
      "Trainable params: 11,486,767\n",
      "Non-trainable params: 0\n",
      "----------------------------------------------------------------\n",
      "Input size (MB): 0.00\n",
      "Forward/backward pass size (MB): 9.21\n",
      "Params size (MB): 43.82\n",
      "Estimated Total Size (MB): 53.03\n",
      "----------------------------------------------------------------\n"
     ]
    }
   ],
   "source": [
    "from torchsummary import summary\n",
    "from Net import PolicyValueNet\n",
    "\n",
    "model = PolicyValueNet(model_file=\"models\\current_model.pth\")\n",
    "summary(model.net, input_size=(9, 10, 9))  # 输入的形状与训练时一致\n"
   ]
  },
  {
   "cell_type": "code",
   "execution_count": null,
   "metadata": {},
   "outputs": [
    {
     "name": "stdout",
     "output_type": "stream",
     "text": [
      "Model Loaded Successfully: ./models/current_model.pth\n",
      "Model Loaded Successfully.\n",
      "Predicted Action Probabilities:\n",
      "[1.7097061e-04 1.6836829e-03 8.6662371e-04 ... 1.8955900e-04 9.9657918e-05\n",
      " 1.7092627e-04]\n",
      "\n",
      "Predicted State Value (Win Probability):\n",
      "-0.9979957938194275\n",
      "\n",
      "Top 5 Moves (Action IDs and Probabilities):\n",
      "Action ID: 1328, Probability: 0.20368847250938416\n",
      "Action ID: 55, Probability: 0.03019220009446144\n",
      "Action ID: 2030, Probability: 0.027153007686138153\n",
      "Action ID: 1893, Probability: 0.02488146349787712\n",
      "Action ID: 2048, Probability: 0.017499295994639397\n"
     ]
    }
   ],
   "source": [
    "import numpy as np\n",
    "import torch\n",
    "from Net import PolicyValueNet\n",
    "from game import GameState\n",
    "from config import CONFIG\n",
    "\n",
    "def verify_model(model_path, board_state):\n",
    "    policy_value_net = PolicyValueNet(model_file=model_path)\n",
    "    print(\"Model Loaded Successfully.\")\n",
    "    \n",
    "    device = torch.device(\"cuda\" if torch.cuda.is_available() else \"cpu\")\n",
    "    policy_value_net.net.to(device) \n",
    "    \n",
    "\n",
    "    game = GameState()\n",
    "    game.current_state = np.array(board_state)\n",
    "    training_state = game.get_training_state()\n",
    "\n",
    "    training_state = np.expand_dims(training_state, axis=0)\n",
    "    training_state = torch.tensor(training_state, dtype=torch.float32).to(device)\n",
    "    \n",
    "    with torch.no_grad():\n",
    "        log_act_probs, value = policy_value_net.net(training_state)\n",
    "        act_probs = torch.exp(log_act_probs).cpu().numpy().flatten()\n",
    "        value = value.item()\n",
    "\n",
    "    print(\"Predicted Action Probabilities:\")\n",
    "    print(act_probs)\n",
    "\n",
    "    print(\"\\nPredicted State Value (Win Probability):\")\n",
    "    print(value)\n",
    "\n",
    "    top_moves = np.argsort(act_probs)[-5:][::-1] \n",
    "    print(\"\\nTop 5 Moves (Action IDs and Probabilities):\")\n",
    "    for move in top_moves:\n",
    "        print(f\"Action ID: {move}, Probability: {act_probs[move]}\")\n",
    "\n",
    "example_board_state = [\n",
    "    [ 0,  0,  0,  -5,  0,  0,  0,  0, 0],\n",
    "    [ 0,  0,  0,  0,  0,  0,  0,  0,  0],\n",
    "    [ 0,  0,  0,  0,  1,  0,  0,  0,  0],\n",
    "     [0,  0,  0,  0,  0,  0, 0,  0, 0],\n",
    "    [ 0,  0,  0,  0,  0,  1,  0,  0,  0],\n",
    "    [ 0,  0,  0,  0,  0,  0,  0,  0,  0],\n",
    "    [ 7,  0,  7,  0,  7,  0,  7,  0,  7],\n",
    "    [ 0,  0,  0,  0,  0,  0,  0,  0,  0],\n",
    "    [ 0,  0,  0,  0,  0,  0,  0,  0,  0],\n",
    "    [ 0,  2,  3,  0,  5,  4,  3,  2,  0]\n",
    "]\n",
    "\n",
    "verify_model(CONFIG[\"model_file\"], example_board_state)\n"
   ]
  },
  {
   "cell_type": "code",
   "execution_count": 6,
   "metadata": {},
   "outputs": [
    {
     "name": "stdout",
     "output_type": "stream",
     "text": [
      "0203\n",
      "6454\n"
     ]
    }
   ],
   "source": [
    "from game import index2move, move2index\n",
    "print(index2move[55])\n",
    "print(index2move[1328])"
   ]
  }
 ],
 "metadata": {
  "kernelspec": {
   "display_name": "newev",
   "language": "python",
   "name": "python3"
  },
  "language_info": {
   "codemirror_mode": {
    "name": "ipython",
    "version": 3
   },
   "file_extension": ".py",
   "mimetype": "text/x-python",
   "name": "python",
   "nbconvert_exporter": "python",
   "pygments_lexer": "ipython3",
   "version": "3.12.7"
  }
 },
 "nbformat": 4,
 "nbformat_minor": 2
}
